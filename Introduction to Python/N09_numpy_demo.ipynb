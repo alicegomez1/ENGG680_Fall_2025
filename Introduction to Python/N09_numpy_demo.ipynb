{
 "cells": [
  {
   "cell_type": "code",
   "execution_count": 7,
   "metadata": {},
   "outputs": [
    {
     "name": "stdout",
     "output_type": "stream",
     "text": [
      "Requirement already satisfied: numpy in c:\\users\\aggom\\onedrive\\文档\\github\\engg680_fall_2025\\.venv\\lib\\site-packages (2.3.3)\n",
      "Note: you may need to restart the kernel to use updated packages.\n"
     ]
    }
   ],
   "source": [
    "pip install numpy"
   ]
  },
  {
   "cell_type": "code",
   "execution_count": 8,
   "metadata": {
    "colab": {
     "base_uri": "https://localhost:8080/"
    },
    "executionInfo": {
     "elapsed": 181,
     "status": "ok",
     "timestamp": 1724267152764,
     "user": {
      "displayName": "Hongzhou Yang",
      "userId": "15013610750638045081"
     },
     "user_tz": 360
    },
    "id": "Dz1H0GftU13b",
    "outputId": "5b6d6957-eb63-40da-b5c2-c2b42bc0b7fc"
   },
   "outputs": [
    {
     "name": "stdout",
     "output_type": "stream",
     "text": [
      "a = [1 2 3]\n",
      "b = [[1 2 3]\n",
      " [4 5 6]]\n",
      "c = [[0. 0. 0.]\n",
      " [0. 0. 0.]]\n",
      "d = [[1. 1. 1.]\n",
      " [1. 1. 1.]]\n",
      "e = [[0.37095887 0.10617139 0.24857231]\n",
      " [0.42851678 0.89414953 0.61304397]]\n",
      "f = [[1. 0. 0.]\n",
      " [0. 1. 0.]\n",
      " [0. 0. 1.]]\n"
     ]
    }
   ],
   "source": [
    "import numpy as np\n",
    "\n",
    "# Create a simple one-dimensional array\n",
    "a = np.array([1, 2, 3])\n",
    "\n",
    "# Create a two-dimensional array\n",
    "b = np.array([[1, 2, 3], [4, 5, 6]])\n",
    "\n",
    "# Create an array of zeros\n",
    "c = np.zeros((2, 3))\n",
    "\n",
    "# Create an array of ones\n",
    "d = np.ones((2, 3))\n",
    "\n",
    "# Create an array of random numbers\n",
    "e = np.random.rand(2, 3)\n",
    "\n",
    "# Create identity array\n",
    "f = np.identity(3)\n",
    "\n",
    "# Print the arrays\n",
    "print(\"a =\", a)\n",
    "print(\"b =\", b)\n",
    "print(\"c =\", c)\n",
    "print(\"d =\", d)\n",
    "print(\"e =\", e)\n",
    "print(\"f =\", f)"
   ]
  },
  {
   "cell_type": "markdown",
   "metadata": {},
   "source": [
    "Rule 2: If the two arrays differ in their number of dimensions, the shape of the one with fewer dimensions is padded with ones on its leading (left) side."
   ]
  },
  {
   "cell_type": "code",
   "execution_count": 9,
   "metadata": {
    "colab": {
     "base_uri": "https://localhost:8080/"
    },
    "executionInfo": {
     "elapsed": 243,
     "status": "ok",
     "timestamp": 1724268447209,
     "user": {
      "displayName": "Hongzhou Yang",
      "userId": "15013610750638045081"
     },
     "user_tz": 360
    },
    "id": "x0m2NRz0aHKp",
    "outputId": "66aee16f-22da-45b0-f119-5703c05b677a"
   },
   "outputs": [
    {
     "name": "stdout",
     "output_type": "stream",
     "text": [
      "[[2 3 4]\n",
      " [3 4 5]]\n"
     ]
    }
   ],
   "source": [
    "import numpy as np\n",
    "\n",
    "# 1D array of shape (3,)\n",
    "a = np.array([1, 2, 3])\n",
    "\n",
    "# 2D array of shape (2, 3)\n",
    "b = np.array([[1, 1, 1],\n",
    "              [2, 2, 2]])\n",
    "\n",
    "# Broadcasting a to match the shape of b\n",
    "result = a + b\n",
    "print(result)"
   ]
  },
  {
   "cell_type": "markdown",
   "metadata": {},
   "source": [
    "Rule 1: If the shape of the two arrays does not match in any dimension, the array with shape equal to 1 in that dimension is stretched to match the other shape."
   ]
  },
  {
   "cell_type": "code",
   "execution_count": 10,
   "metadata": {
    "colab": {
     "base_uri": "https://localhost:8080/"
    },
    "executionInfo": {
     "elapsed": 293,
     "status": "ok",
     "timestamp": 1724269435915,
     "user": {
      "displayName": "Hongzhou Yang",
      "userId": "15013610750638045081"
     },
     "user_tz": 360
    },
    "id": "WomaVbb0d4XT",
    "outputId": "81dcf9b5-d926-45d1-9386-953efb59b84c"
   },
   "outputs": [
    {
     "name": "stdout",
     "output_type": "stream",
     "text": [
      "[[2 3 4]\n",
      " [3 4 5]]\n"
     ]
    }
   ],
   "source": [
    "import numpy as np\n",
    "\n",
    "# 2D array of shape (2, 1)\n",
    "a = np.array([[1],\n",
    "              [2]])\n",
    "\n",
    "# 2D array of shape (2, 3)\n",
    "b = np.array([[1, 2, 3],\n",
    "              [1, 2, 3]])\n",
    "\n",
    "# Broadcasting a to match the shape of b\n",
    "result = a + b\n",
    "print(result)"
   ]
  },
  {
   "cell_type": "markdown",
   "metadata": {},
   "source": [
    "Rule 3: If in any dimension the sizes disagree and neither is equal to 1, an error is raised because broadcasting cannot be performed."
   ]
  },
  {
   "cell_type": "code",
   "execution_count": 11,
   "metadata": {
    "colab": {
     "base_uri": "https://localhost:8080/"
    },
    "executionInfo": {
     "elapsed": 211,
     "status": "ok",
     "timestamp": 1724269547399,
     "user": {
      "displayName": "Hongzhou Yang",
      "userId": "15013610750638045081"
     },
     "user_tz": 360
    },
    "id": "lppoOAKUeT5z",
    "outputId": "6ef70fe9-79cd-476a-b024-14c59839bb55"
   },
   "outputs": [
    {
     "name": "stdout",
     "output_type": "stream",
     "text": [
      "Broadcasting Error: operands could not be broadcast together with shapes (2,3) (3,2) \n"
     ]
    }
   ],
   "source": [
    "import numpy as np\n",
    "\n",
    "# 2D array of shape (2, 3)\n",
    "a = np.array([[1, 2, 3],\n",
    "              [4, 5, 6]])\n",
    "\n",
    "# 2D array of shape (3, 2)\n",
    "b = np.array([[1, 1],\n",
    "              [2, 2],\n",
    "              [3, 3]])\n",
    "\n",
    "# Attempting to broadcast incompatible shapes\n",
    "try:\n",
    "    result = a + b\n",
    "    print(result)\n",
    "except ValueError as e:\n",
    "    print(\"Broadcasting Error:\", e)"
   ]
  },
  {
   "cell_type": "code",
   "execution_count": 12,
   "metadata": {
    "colab": {
     "base_uri": "https://localhost:8080/"
    },
    "executionInfo": {
     "elapsed": 183,
     "status": "ok",
     "timestamp": 1724272604624,
     "user": {
      "displayName": "Hongzhou Yang",
      "userId": "15013610750638045081"
     },
     "user_tz": 360
    },
    "id": "NI1t2Re2p7tM",
    "outputId": "642b4058-fe0a-4adc-ce04-55047d3871b8"
   },
   "outputs": [
    {
     "name": "stdout",
     "output_type": "stream",
     "text": [
      "[1 2 3 4 5 6]\n",
      "[[1 2 3]\n",
      " [4 5 6]]\n"
     ]
    }
   ],
   "source": [
    "import numpy as np\n",
    "\n",
    "# Create two arrays\n",
    "a = np.array([1, 2, 3])\n",
    "b = np.array([4, 5, 6])\n",
    "\n",
    "# Horizontally stack the two arrays\n",
    "h_stacked = np.hstack((a, b))\n",
    "print(h_stacked)\n",
    "\n",
    "# Vertically stack the two arrays\n",
    "v_stacked = np.vstack((a, b))\n",
    "print(v_stacked)"
   ]
  },
  {
   "cell_type": "markdown",
   "metadata": {},
   "source": [
    "Reshaping Arrays: Reshaping is essential when you need to alter the dimensionality of an array for operations such as matrix multiplication, data feeding into machine learning models, or for visualization purposes."
   ]
  },
  {
   "cell_type": "code",
   "execution_count": 13,
   "metadata": {
    "colab": {
     "base_uri": "https://localhost:8080/"
    },
    "executionInfo": {
     "elapsed": 206,
     "status": "ok",
     "timestamp": 1724272926882,
     "user": {
      "displayName": "Hongzhou Yang",
      "userId": "15013610750638045081"
     },
     "user_tz": 360
    },
    "id": "GmL6MYCarNTD",
    "outputId": "8af766ab-ae99-42fd-e3cd-38d2614c523f"
   },
   "outputs": [
    {
     "name": "stdout",
     "output_type": "stream",
     "text": [
      "Original array:\n",
      "[ 1  2  3  4  5  6  7  8  9 10 11 12]\n",
      "\n",
      "Reshaped array into 3x4 matrix:\n",
      "[[ 1  2  3  4]\n",
      " [ 5  6  7  8]\n",
      " [ 9 10 11 12]]\n"
     ]
    }
   ],
   "source": [
    "import numpy as np\n",
    "\n",
    "# Create a 1D array of 12 elements\n",
    "a = np.arange(1, 13)  # Generates numbers from 1 to 12\n",
    "print(\"Original array:\")\n",
    "print(a)\n",
    "\n",
    "# Reshape it into a 3x4 matrix\n",
    "b = a.reshape(3, 4)\n",
    "print(\"\\nReshaped array into 3x4 matrix:\")\n",
    "print(b)\n"
   ]
  },
  {
   "cell_type": "markdown",
   "metadata": {},
   "source": [
    "Indexing allows you to access individual array elements, while slicing lets you access a sequence of data within the array."
   ]
  },
  {
   "cell_type": "code",
   "execution_count": 14,
   "metadata": {
    "colab": {
     "base_uri": "https://localhost:8080/"
    },
    "executionInfo": {
     "elapsed": 183,
     "status": "ok",
     "timestamp": 1724273017205,
     "user": {
      "displayName": "Hongzhou Yang",
      "userId": "15013610750638045081"
     },
     "user_tz": 360
    },
    "id": "uL-I6RQ4rhHD",
    "outputId": "6ccb0b93-cc43-4d74-c244-5e38d8ca0b53"
   },
   "outputs": [
    {
     "name": "stdout",
     "output_type": "stream",
     "text": [
      "First element of the reshaped array:\n",
      "1\n",
      "Elements from the second row:\n",
      "[5 6 7 8]\n",
      "Elements from the third column:\n",
      "[ 3  7 11]\n"
     ]
    }
   ],
   "source": [
    "# Access the first element of the reshaped array\n",
    "print(\"First element of the reshaped array:\")\n",
    "print(b[0, 0])\n",
    "\n",
    "# Slice elements from the second row\n",
    "print(\"Elements from the second row:\")\n",
    "print(b[1, :])\n",
    "\n",
    "# Slice elements from the third column\n",
    "print(\"Elements from the third column:\")\n",
    "print(b[:, 2])"
   ]
  },
  {
   "cell_type": "code",
   "execution_count": 15,
   "metadata": {
    "colab": {
     "base_uri": "https://localhost:8080/"
    },
    "executionInfo": {
     "elapsed": 254,
     "status": "ok",
     "timestamp": 1724290784224,
     "user": {
      "displayName": "Hongzhou Yang",
      "userId": "15013610750638045081"
     },
     "user_tz": 360
    },
    "id": "j3FoK3tPvUvi",
    "outputId": "4a615a4e-e80b-4893-a626-37f39fe20f0b"
   },
   "outputs": [
    {
     "name": "stdout",
     "output_type": "stream",
     "text": [
      "Matrix Multiplication of A and B:\n",
      " [[ 4  4]\n",
      " [10  8]]\n",
      "Determinant of A: -2.0000000000000004\n",
      "Eigenvalues of A: [-0.37228132  5.37228132]\n"
     ]
    }
   ],
   "source": [
    "import numpy as np\n",
    "\n",
    "# Create two 2x2 matrices\n",
    "A = np.array([[1, 2],\n",
    "              [3, 4]])\n",
    "B = np.array([[2, 0],\n",
    "              [1, 2]])\n",
    "\n",
    "# Matrix multiplication\n",
    "C = np.dot(A, B)\n",
    "print(\"Matrix Multiplication of A and B:\\n\", C)\n",
    "\n",
    "# Determinant of A\n",
    "det_A = np.linalg.det(A)\n",
    "print(\"Determinant of A:\", det_A)\n",
    "\n",
    "# Eigenvalues of A\n",
    "eigenvalues = np.linalg.eigvals(A)\n",
    "print(\"Eigenvalues of A:\", eigenvalues)"
   ]
  },
  {
   "cell_type": "code",
   "execution_count": 16,
   "metadata": {
    "colab": {
     "base_uri": "https://localhost:8080/"
    },
    "executionInfo": {
     "elapsed": 173,
     "status": "ok",
     "timestamp": 1724290914131,
     "user": {
      "displayName": "Hongzhou Yang",
      "userId": "15013610750638045081"
     },
     "user_tz": 360
    },
    "id": "Ih-6iKqYv0Do",
    "outputId": "eb6c1167-da05-42db-88a6-224d0cf6cf77"
   },
   "outputs": [
    {
     "name": "stdout",
     "output_type": "stream",
     "text": [
      "Data: [-0.2420041  -0.29307147  0.49647501 -0.45235032 -1.2489906  -0.73244904\n",
      " -0.43321205 -0.93386144 -1.13964345  1.24570423]\n",
      "Mean: -0.3733403237563647\n",
      "Median: -0.44278118684815393\n",
      "Variance: 0.5208530360203737\n",
      "Standard Deviation: 0.7217014867799385\n"
     ]
    }
   ],
   "source": [
    "# Generate an array of 10 random numbers\n",
    "data = np.random.randn(10)\n",
    "print(\"Data:\", data)\n",
    "\n",
    "# Mean\n",
    "mean_data = np.mean(data)\n",
    "print(\"Mean:\", mean_data)\n",
    "\n",
    "# Median\n",
    "median_data = np.median(data)\n",
    "print(\"Median:\", median_data)\n",
    "\n",
    "# Variance\n",
    "variance_data = np.var(data)\n",
    "print(\"Variance:\", variance_data)\n",
    "\n",
    "# Standard Deviation\n",
    "std_dev_data = np.std(data)\n",
    "print(\"Standard Deviation:\", std_dev_data)"
   ]
  },
  {
   "cell_type": "code",
   "execution_count": 17,
   "metadata": {
    "colab": {
     "base_uri": "https://localhost:8080/"
    },
    "executionInfo": {
     "elapsed": 175,
     "status": "ok",
     "timestamp": 1724290938339,
     "user": {
      "displayName": "Hongzhou Yang",
      "userId": "15013610750638045081"
     },
     "user_tz": 360
    },
    "id": "U4IDm52ov6Mx",
    "outputId": "ff63fd97-9a62-48cf-ef9c-effcf00f2cc7"
   },
   "outputs": [
    {
     "name": "stdout",
     "output_type": "stream",
     "text": [
      "Element-wise addition: [ 6  8 10 12]\n",
      "Element-wise multiplication: [ 5 12 21 32]\n",
      "Element-wise exponentiation: [ 2.71828183  7.3890561  20.08553692 54.59815003]\n"
     ]
    }
   ],
   "source": [
    "# Create two arrays\n",
    "x = np.array([1, 2, 3, 4])\n",
    "y = np.array([5, 6, 7, 8])\n",
    "\n",
    "# Element-wise addition\n",
    "z_add = np.add(x, y)\n",
    "print(\"Element-wise addition:\", z_add)\n",
    "\n",
    "# Element-wise multiplication\n",
    "z_mul = np.multiply(x, y)\n",
    "print(\"Element-wise multiplication:\", z_mul)\n",
    "\n",
    "# Element-wise exponentiation\n",
    "z_exp = np.exp(x)\n",
    "print(\"Element-wise exponentiation:\", z_exp)"
   ]
  }
 ],
 "metadata": {
  "colab": {
   "authorship_tag": "ABX9TyNhUUqQhb9hVDA+vzRL8fAx",
   "provenance": []
  },
  "kernelspec": {
   "display_name": ".venv",
   "language": "python",
   "name": "python3"
  },
  "language_info": {
   "codemirror_mode": {
    "name": "ipython",
    "version": 3
   },
   "file_extension": ".py",
   "mimetype": "text/x-python",
   "name": "python",
   "nbconvert_exporter": "python",
   "pygments_lexer": "ipython3",
   "version": "3.13.7"
  }
 },
 "nbformat": 4,
 "nbformat_minor": 4
}
