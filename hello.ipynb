{
 "cells": [
  {
   "cell_type": "code",
   "execution_count": 1,
   "id": "3a5fb010",
   "metadata": {},
   "outputs": [
    {
     "name": "stdout",
     "output_type": "stream",
     "text": [
      "Hi this is Alice\n"
     ]
    }
   ],
   "source": [
    "#testing to push\n",
    "\n",
    "txt = \"Hi this is Alice\"\n",
    "print(txt)"
   ]
  },
  {
   "cell_type": "code",
   "execution_count": 1,
   "id": "41a7e2ed",
   "metadata": {},
   "outputs": [
    {
     "name": "stdout",
     "output_type": "stream",
     "text": [
      "I am learning git\n",
      "I am learning python\n"
     ]
    }
   ],
   "source": [
    "# Thi is an additional line to test git push\n",
    "print(\"I am learning git\")\n",
    "# I am adding another line to test git pull\n",
    "print(\"I am learning python\")"
   ]
  }
 ],
 "metadata": {
  "kernelspec": {
   "display_name": ".venv",
   "language": "python",
   "name": "python3"
  },
  "language_info": {
   "codemirror_mode": {
    "name": "ipython",
    "version": 3
   },
   "file_extension": ".py",
   "mimetype": "text/x-python",
   "name": "python",
   "nbconvert_exporter": "python",
   "pygments_lexer": "ipython3",
   "version": "3.13.7"
  }
 },
 "nbformat": 4,
 "nbformat_minor": 5
}
